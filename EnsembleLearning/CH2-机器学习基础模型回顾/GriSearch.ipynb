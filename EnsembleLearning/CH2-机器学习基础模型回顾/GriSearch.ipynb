{
 "cells": [
  {
   "cell_type": "markdown",
   "metadata": {},
   "source": [
    "# Task4 \n",
    "\n",
    "### use pipline and grid search to find best parameter for different models (SVM,random forest,KNN)\n"
   ]
  },
  {
   "cell_type": "code",
   "execution_count": 23,
   "metadata": {},
   "outputs": [],
   "source": [
    "# import data and packages\n",
    "import pandas as pd\n",
    "import numpy as np\n",
    "from sklearn.pipeline import Pipeline, make_pipeline, FeatureUnion\n",
    "from sklearn.compose import ColumnTransformer\n",
    "from sklearn.base import BaseEstimator, TransformerMixin\n",
    "from sklearn.preprocessing import StandardScaler, RobustScaler, MinMaxScaler\n",
    "from sklearn.model_selection import train_test_split, GridSearchCV\n",
    "from sklearn import svm\n",
    "from sklearn.ensemble import RandomForestClassifier\n",
    "from sklearn.neighbors import KNeighborsClassifier\n",
    "from sklearn.metrics import roc_curve, auc, accuracy_score, precision_recall_fscore_support\n",
    "from scipy import interp\n",
    "import pickle\n",
    "import matplotlib.pyplot as plt\n",
    "%matplotlib inline"
   ]
  },
  {
   "cell_type": "code",
   "execution_count": 2,
   "metadata": {},
   "outputs": [
    {
     "data": {
      "text/html": [
       "<div>\n",
       "<style scoped>\n",
       "    .dataframe tbody tr th:only-of-type {\n",
       "        vertical-align: middle;\n",
       "    }\n",
       "\n",
       "    .dataframe tbody tr th {\n",
       "        vertical-align: top;\n",
       "    }\n",
       "\n",
       "    .dataframe thead th {\n",
       "        text-align: right;\n",
       "    }\n",
       "</style>\n",
       "<table border=\"1\" class=\"dataframe\">\n",
       "  <thead>\n",
       "    <tr style=\"text-align: right;\">\n",
       "      <th></th>\n",
       "      <th>area</th>\n",
       "      <th>perimeter</th>\n",
       "      <th>compactness</th>\n",
       "      <th>length of kernel</th>\n",
       "      <th>width of kernel</th>\n",
       "      <th>asymmetry coefficient</th>\n",
       "      <th>length of kernel groove</th>\n",
       "      <th>type</th>\n",
       "    </tr>\n",
       "  </thead>\n",
       "  <tbody>\n",
       "    <tr>\n",
       "      <th>0</th>\n",
       "      <td>15.26</td>\n",
       "      <td>14.84</td>\n",
       "      <td>0.8710</td>\n",
       "      <td>5.763</td>\n",
       "      <td>3.312</td>\n",
       "      <td>2.221</td>\n",
       "      <td>5.220</td>\n",
       "      <td>1</td>\n",
       "    </tr>\n",
       "    <tr>\n",
       "      <th>1</th>\n",
       "      <td>14.88</td>\n",
       "      <td>14.57</td>\n",
       "      <td>0.8811</td>\n",
       "      <td>5.554</td>\n",
       "      <td>3.333</td>\n",
       "      <td>1.018</td>\n",
       "      <td>4.956</td>\n",
       "      <td>1</td>\n",
       "    </tr>\n",
       "    <tr>\n",
       "      <th>2</th>\n",
       "      <td>14.29</td>\n",
       "      <td>14.09</td>\n",
       "      <td>0.9050</td>\n",
       "      <td>5.291</td>\n",
       "      <td>3.337</td>\n",
       "      <td>2.699</td>\n",
       "      <td>4.825</td>\n",
       "      <td>1</td>\n",
       "    </tr>\n",
       "    <tr>\n",
       "      <th>3</th>\n",
       "      <td>13.84</td>\n",
       "      <td>13.94</td>\n",
       "      <td>0.8955</td>\n",
       "      <td>5.324</td>\n",
       "      <td>3.379</td>\n",
       "      <td>2.259</td>\n",
       "      <td>4.805</td>\n",
       "      <td>1</td>\n",
       "    </tr>\n",
       "    <tr>\n",
       "      <th>4</th>\n",
       "      <td>16.14</td>\n",
       "      <td>14.99</td>\n",
       "      <td>0.9034</td>\n",
       "      <td>5.658</td>\n",
       "      <td>3.562</td>\n",
       "      <td>1.355</td>\n",
       "      <td>5.175</td>\n",
       "      <td>1</td>\n",
       "    </tr>\n",
       "  </tbody>\n",
       "</table>\n",
       "</div>"
      ],
      "text/plain": [
       "    area  perimeter  compactness  length of kernel  width of kernel  \\\n",
       "0  15.26      14.84       0.8710             5.763            3.312   \n",
       "1  14.88      14.57       0.8811             5.554            3.333   \n",
       "2  14.29      14.09       0.9050             5.291            3.337   \n",
       "3  13.84      13.94       0.8955             5.324            3.379   \n",
       "4  16.14      14.99       0.9034             5.658            3.562   \n",
       "\n",
       "   asymmetry coefficient  length of kernel groove  type  \n",
       "0                  2.221                    5.220     1  \n",
       "1                  1.018                    4.956     1  \n",
       "2                  2.699                    4.825     1  \n",
       "3                  2.259                    4.805     1  \n",
       "4                  1.355                    5.175     1  "
      ]
     },
     "execution_count": 2,
     "metadata": {},
     "output_type": "execute_result"
    }
   ],
   "source": [
    "# simple EDA to this dataset\n",
    "\n",
    "df = pd.read_csv(\"./Dataset/seeds.csv\")\n",
    "df.head()"
   ]
  },
  {
   "cell_type": "code",
   "execution_count": 3,
   "metadata": {},
   "outputs": [
    {
     "data": {
      "text/plain": [
       "3    70\n",
       "2    70\n",
       "1    70\n",
       "Name: type, dtype: int64"
      ]
     },
     "execution_count": 3,
     "metadata": {},
     "output_type": "execute_result"
    }
   ],
   "source": [
    "# Accroding to the dataset, we can know that the 'type' is classify target and others are predictors\n",
    "# So we can have a look on majority type\n",
    "df['type'].value_counts()"
   ]
  },
  {
   "cell_type": "code",
   "execution_count": 4,
   "metadata": {},
   "outputs": [
    {
     "data": {
      "text/plain": [
       "area                       0\n",
       "perimeter                  0\n",
       "compactness                0\n",
       "length of kernel           0\n",
       "width of kernel            0\n",
       "asymmetry coefficient      0\n",
       "length of kernel groove    0\n",
       "type                       0\n",
       "dtype: int64"
      ]
     },
     "execution_count": 4,
     "metadata": {},
     "output_type": "execute_result"
    }
   ],
   "source": [
    "df.isna().sum()"
   ]
  },
  {
   "cell_type": "code",
   "execution_count": 5,
   "metadata": {},
   "outputs": [
    {
     "data": {
      "image/png": "[encoded data removed]",
      "text/plain": [
       "<Figure size 1440x360 with 1 Axes>"
      ]
     },
     "metadata": {
      "needs_background": "light"
     },
     "output_type": "display_data"
    }
   ],
   "source": [
    "# don't have any empty value in dataset, and we have 3 types each have 70 instance\n",
    "df.loc[:,'area':'length of kernel groove'].boxplot(figsize=(20,5))\n",
    "plt.show()"
   ]
  },
  {
   "cell_type": "markdown",
   "metadata": {},
   "source": [
    "the asymmetry coefficient has most prominent outliner\n",
    "Log transformation and RobustScaler will apply later\n",
    "\n",
    "## Data preparation \n"
   ]
  },
  {
   "cell_type": "code",
   "execution_count": 6,
   "metadata": {},
   "outputs": [],
   "source": [
    "df['asymmetry coefficient'] = np.log(df['asymmetry coefficient'])"
   ]
  },
  {
   "cell_type": "code",
   "execution_count": 11,
   "metadata": {},
   "outputs": [],
   "source": [
    "# store a list of column names except 'type'\n",
    "names_all  = [c for c in df if c not in ['type']]\n",
    "\n",
    "#prepare the name of  outlier and else\n",
    "names_outliers = ['asymmetry coefficient']\n",
    "names_no_outliers = list(set(names_all) - set(names_outlier))"
   ]
  },
  {
   "cell_type": "code",
   "execution_count": 12,
   "metadata": {},
   "outputs": [],
   "source": [
    "class AddColumnNames(BaseEstimator, TransformerMixin):\n",
    "    def __init__(self, columns):\n",
    "        self.columns = columns\n",
    "        \n",
    "    def fit(self, X, y=None):\n",
    "        return self\n",
    "    \n",
    "    # add column name\n",
    "    def transform(self, X):\n",
    "        return pd.DataFrame(data=X, columns=self.columns)"
   ]
  },
  {
   "cell_type": "code",
   "execution_count": 13,
   "metadata": {},
   "outputs": [],
   "source": [
    "class ColumnSelector(BaseEstimator, TransformerMixin):\n",
    "    def __init__(self, columns):\n",
    "        self.columns = columns\n",
    "        \n",
    "    def fit(self, X, y = None):\n",
    "        return self\n",
    "    \n",
    "    def transform(self, X):\n",
    "        assert isinstance(X, pd.DataFrame)\n",
    "        \n",
    "        try:\n",
    "            return X[self.columns]\n",
    "        except KeyError:\n",
    "            cols_error = list(set(self.columns) - set(X.columns))\n",
    "            raise KeyError(\"Does not include this column : %s\" % cols_error)"
   ]
  },
  {
   "cell_type": "markdown",
   "metadata": {},
   "source": [
    "# prepare the pipeline"
   ]
  },
  {
   "cell_type": "code",
   "execution_count": 17,
   "metadata": {},
   "outputs": [],
   "source": [
    "\n",
    "preproces_pipeline = make_pipeline(\n",
    "    AddColumnNames(columns = names_all),\n",
    "    FeatureUnion(transformer_list = [\n",
    "        (\"outlier_columns\", make_pipeline(\n",
    "            ColumnSelector(columns=names_outliers),\n",
    "            RobustScaler()\n",
    "        )),\n",
    "        (\"no_outlier_columns\", make_pipeline(\n",
    "            ColumnSelector(columns=names_no_outliers),\n",
    "            MinMaxScaler()\n",
    "        ))]\n",
    "        )\n",
    ")"
   ]
  },
  {
   "cell_type": "code",
   "execution_count": 18,
   "metadata": {},
   "outputs": [],
   "source": [
    "# split the data from test and train\n",
    "# we know the type colum means the result so y is the type and x is cases without type\n",
    "y = df['type']\n",
    "X = df.drop('type', axis=1).values\n",
    "\n",
    "X_train, X_test, y_train, y_test = train_test_split(X, y, test_size=0.2, shuffle=True, stratify=y)"
   ]
  },
  {
   "cell_type": "markdown",
   "metadata": {},
   "source": [
    "# Train model by SVM , random forest and KNN with para-grid\n"
   ]
  },
  {
   "cell_type": "code",
   "execution_count": 20,
   "metadata": {},
   "outputs": [
    {
     "name": "stdout",
     "output_type": "stream",
     "text": [
      "Best CV score = 0.942:\n",
      "Best parameters:  {'svm__C': 100, 'svm__gamma': 1, 'svm__kernel': 'linear'}\n"
     ]
    }
   ],
   "source": [
    "# create the pipeline\n",
    "pipe = Pipeline(steps=[('preprocess', preproces_pipeline), ('svm', svm.SVC(probability=True))])\n",
    "\n",
    "# prepare a prameter grid\n",
    "# note that __ can be used to specify the name of a parameter for a specific element in a pipeline\n",
    "# note also that this is not an exhaustive list of the parameters of svn.SVC and their possible values\n",
    "\n",
    "param_grid = {\n",
    "    'svm__C': [0.1, 1, 10, 100],  \n",
    "    'svm__gamma': [1, 0.1, 0.01, 0.001], \n",
    "    'svm__kernel': ['rbf', 'linear', 'poly']}\n",
    "\n",
    "search = GridSearchCV(pipe, param_grid, cv=10, iid=False, refit=True)\n",
    "search.fit(X_train, y_train)\n",
    "print(\"Best CV score = %0.3f:\" % search.best_score_)\n",
    "print(\"Best parameters: \", search.best_params_)\n",
    "\n",
    "# store the best params and best model for later use\n",
    "SVM_best_params = search.best_params_\n",
    "SVM_best_model = search.best_estimator_"
   ]
  },
  {
   "cell_type": "code",
   "execution_count": 28,
   "metadata": {},
   "outputs": [
    {
     "name": "stdout",
     "output_type": "stream",
     "text": [
      "Best CV score = 0.937:\n",
      "Best parameters:  {'rf__max_depth': 8, 'rf__n_estimators': 10}\n"
     ]
    }
   ],
   "source": [
    "# Now try the random forest\n",
    "# create the pipeline\n",
    "pipe = Pipeline(steps=[('preprocess', preproces_pipeline), ('rf', RandomForestClassifier())])\n",
    "\n",
    "# prepare a prameter grid\n",
    "# note that __ can be used to specify the name of a parameter for a specific element in a pipeline\n",
    "# note also that this is not an exhaustive list of the parameters of RandomForestClassifier and their possible values\n",
    "param_grid = {\n",
    "    'rf__n_estimators' : [10,20,30],\n",
    "    'rf__max_depth': [2, 4, 6, 8]\n",
    "}\n",
    "\n",
    "search = GridSearchCV(pipe, param_grid, cv=10, iid=False, refit=True)\n",
    "search.fit(X_train, y_train)\n",
    "print(\"Best CV score = %0.3f:\" % search.best_score_)\n",
    "print(\"Best parameters: \", search.best_params_)\n",
    "\n",
    "# store the best params and best model for later use\n",
    "RF_best_params = search.best_params_\n",
    "RF_best_model = search.best_estimator_"
   ]
  },
  {
   "cell_type": "code",
   "execution_count": 29,
   "metadata": {},
   "outputs": [
    {
     "name": "stdout",
     "output_type": "stream",
     "text": [
      "Best CV score = 0.910:\n",
      "Best parameters:  {'knn__n_neighbors': 7}\n"
     ]
    }
   ],
   "source": [
    "# Now try the KNN\n",
    "# create the pipeline\n",
    "pipe = Pipeline(steps=[('preprocess', preproces_pipeline), ('knn', KNeighborsClassifier())])\n",
    "\n",
    "# prepare a prameter grid\n",
    "# note that __ can be used to specify the name of a parameter for a specific element in a pipeline\n",
    "# note also that this is not an exhaustive list of the parameters of RandomForestClassifier and their possible values\n",
    "param_grid = {\n",
    "    'knn__n_neighbors' : [4,5,7]\n",
    "}\n",
    "\n",
    "search = GridSearchCV(pipe, param_grid, cv=10, iid=False, refit=True)\n",
    "search.fit(X_train, y_train)\n",
    "print(\"Best CV score = %0.3f:\" % search.best_score_)\n",
    "print(\"Best parameters: \", search.best_params_)\n",
    "\n",
    "# store the best params and best model for later use\n",
    "KNN_best_params = search.best_params_\n",
    "KNN_best_model = search.best_estimator_"
   ]
  },
  {
   "cell_type": "markdown",
   "metadata": {},
   "source": [
    "## Compare Classifiers on Test Set"
   ]
  },
  {
   "cell_type": "code",
   "execution_count": 26,
   "metadata": {},
   "outputs": [],
   "source": [
    "mean_fpr = np.linspace(start=0, stop=1, num=100)"
   ]
  },
  {
   "cell_type": "code",
   "execution_count": 33,
   "metadata": {},
   "outputs": [],
   "source": [
    "def evaluate_model(X_test, y_test, model):\n",
    "    # compute probabilistic predictiond for the evaluation set\n",
    "    _probabilities = model.predict_proba(X_test)[:, 1]\n",
    "    \n",
    "    # compute exact predictiond for the evaluation set\n",
    "    _predicted_values = model.predict(X_test)\n",
    "        \n",
    "    # compute accuracy\n",
    "    _accuracy = accuracy_score(y_test, _predicted_values)\n",
    "        \n",
    "    # compute precision, recall and f1 score for class 1\n",
    "    _precision, _recall, _f1_score, _ = precision_recall_fscore_support(y_test, _predicted_values, labels=[1])\n",
    "    \n",
    "    # compute fpr and tpr values for various thresholds \n",
    "    # by comparing the true target values to the predicted probabilities for class 1\n",
    "   # _fpr, _tpr, _ = roc_curve(y_test, _probabilities)\n",
    "        \n",
    "    # compute true positive rates for the values in the array mean_fpr\n",
    "    #_tpr_transformed = np.array([interp(mean_fpr, _fpr, _tpr)])\n",
    "    \n",
    "    # compute the area under the curve\n",
    "   # _auc = auc(_fpr, _tpr)\n",
    "            \n",
    "   # return _accuracy, _precision[0], _recall[0], _f1_score[0], _tpr_transformed, _auc\n",
    "    return _accuracy, _precision[0], _recall[0], _f1_score[0]"
   ]
  },
  {
   "cell_type": "code",
   "execution_count": 34,
   "metadata": {},
   "outputs": [],
   "source": [
    "#Now put SVM,RF and KNN in\n",
    "SVM_accuracy, SVM_precision, SVM_recall, SVM_f1_score = evaluate_model(X_test, y_test, SVM_best_model)\n",
    "RF_accuracy, RF_precision, RF_recall, RF_f1_score= evaluate_model(X_test, y_test, RF_best_model)\n",
    "KNN_accuracy, KNN_precision, KNN_recall, KNN_f1_score = evaluate_model(X_test, y_test, KNN_best_model)"
   ]
  },
  {
   "cell_type": "code",
   "execution_count": 35,
   "metadata": {},
   "outputs": [
    {
     "data": {
      "image/png": "[encoded data removed]",
      "text/plain": [
       "<Figure size 432x288 with 1 Axes>"
      ]
     },
     "metadata": {
      "needs_background": "light"
     },
     "output_type": "display_data"
    }
   ],
   "source": [
    "# draw !\n",
    "SVM_metrics = np.array([SVM_accuracy, SVM_precision, SVM_recall, SVM_f1_score])\n",
    "RF_metrics = np.array([RF_accuracy, RF_precision, RF_recall, RF_f1_score])\n",
    "KNN_metrics = np.array([KNN_accuracy, KNN_precision, KNN_recall, KNN_f1_score])\n",
    "index = ['accuracy', 'precision', 'recall', 'F1-score']\n",
    "df_metrics = pd.DataFrame({'SVM': SVM_metrics, 'Random Forest': RF_metrics,'KNN':KNN_metrics}, index=index)\n",
    "df_metrics.plot.bar(rot=0)\n",
    "plt.legend(loc=\"lower right\")\n",
    "plt.show()"
   ]
  },
  {
   "cell_type": "markdown",
   "metadata": {},
   "source": [
    "Accroding the graph we can know among all metrics, SVM outperform other models"
   ]
  },
  {
   "cell_type": "code",
   "execution_count": 37,
   "metadata": {},
   "outputs": [],
   "source": [
    "## Train a Final Model\n",
    "# function to remove the string 'svm__' from the names of the parameters in SVM_best_params\n",
    "def transform(dict):\n",
    "    return {key.replace('svm__','') :  value for key, value in dict.items()}\n",
    "\n",
    "pipe = make_pipeline(preproces_pipeline, svm.SVC(**transform(SVM_best_params)))\n",
    "\n",
    "final_model =pipe.fit(X, y)"
   ]
  },
  {
   "cell_type": "code",
   "execution_count": 38,
   "metadata": {},
   "outputs": [],
   "source": [
    "filename = 'final_model.sav'\n",
    "pickle.dump(final_model, open(filename, 'wb'))"
   ]
  },
  {
   "cell_type": "code",
   "execution_count": null,
   "metadata": {},
   "outputs": [],
   "source": []
  }
 ],
 "metadata": {
  "kernelspec": {
   "display_name": "Python 3",
   "language": "python",
   "name": "python3"
  },
  "language_info": {
   "codemirror_mode": {
    "name": "ipython",
    "version": 3
   },
   "file_extension": ".py",
   "mimetype": "text/x-python",
   "name": "python",
   "nbconvert_exporter": "python",
   "pygments_lexer": "ipython3",
   "version": "3.8.5"
  }
 },
 "nbformat": 4,
 "nbformat_minor": 2
}
